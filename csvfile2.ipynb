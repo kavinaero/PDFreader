{
  "nbformat": 4,
  "nbformat_minor": 0,
  "metadata": {
    "colab": {
      "name": "csvfile2.ipynb",
      "provenance": [],
      "collapsed_sections": [],
      "authorship_tag": "ABX9TyNSuP5X7MrPSe6tXtZUbGkD",
      "include_colab_link": true
    },
    "kernelspec": {
      "name": "python3",
      "display_name": "Python 3"
    }
  },
  "cells": [
    {
      "cell_type": "markdown",
      "metadata": {
        "id": "view-in-github",
        "colab_type": "text"
      },
      "source": [
        "<a href=\"https://colab.research.google.com/github/kavinaero/PDFreader/blob/master/csvfile2.ipynb\" target=\"_parent\"><img src=\"https://colab.research.google.com/assets/colab-badge.svg\" alt=\"Open In Colab\"/></a>"
      ]
    },
    {
      "cell_type": "code",
      "metadata": {
        "id": "bLDx2NX6iJWh",
        "colab_type": "code",
        "colab": {}
      },
      "source": [
        "import nltk\n",
        "\n",
        "import pandas as pd"
      ],
      "execution_count": 1,
      "outputs": []
    },
    {
      "cell_type": "code",
      "metadata": {
        "id": "6TDmUAVDiTfn",
        "colab_type": "code",
        "colab": {
          "resources": {
            "http://localhost:8080/nbextensions/google.colab/files.js": {
              "data": "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",
              "ok": true,
              "headers": [
                [
                  "content-type",
                  "application/javascript"
                ]
              ],
              "status": 200,
              "status_text": ""
            }
          },
          "base_uri": "https://localhost:8080/",
          "height": 600
        },
        "outputId": "762bf5cb-5eac-49c0-aadd-4b4dc2fc5dff"
      },
      "source": [
        "from google.colab import files\n",
        "\n",
        "upload = files.upload()\n",
        "\n",
        "import io\n",
        "\n",
        "#\"\"\"Reading my file\"\"\"\n",
        "\n",
        "source = pd.read_csv(io.BytesIO(upload['File.csv']))\n",
        "\n",
        "Data = pd.DataFrame(source['text'])\n",
        "\n",
        "Data"
      ],
      "execution_count": 2,
      "outputs": [
        {
          "output_type": "display_data",
          "data": {
            "text/html": [
              "\n",
              "     <input type=\"file\" id=\"files-6b57a02a-98a3-4858-84fb-e1941606dd56\" name=\"files[]\" multiple disabled\n",
              "        style=\"border:none\" />\n",
              "     <output id=\"result-6b57a02a-98a3-4858-84fb-e1941606dd56\">\n",
              "      Upload widget is only available when the cell has been executed in the\n",
              "      current browser session. Please rerun this cell to enable.\n",
              "      </output>\n",
              "      <script src=\"/nbextensions/google.colab/files.js\"></script> "
            ],
            "text/plain": [
              "<IPython.core.display.HTML object>"
            ]
          },
          "metadata": {
            "tags": []
          }
        },
        {
          "output_type": "stream",
          "text": [
            "Saving File.csv to File.csv\n"
          ],
          "name": "stdout"
        },
        {
          "output_type": "execute_result",
          "data": {
            "text/html": [
              "<div>\n",
              "<style scoped>\n",
              "    .dataframe tbody tr th:only-of-type {\n",
              "        vertical-align: middle;\n",
              "    }\n",
              "\n",
              "    .dataframe tbody tr th {\n",
              "        vertical-align: top;\n",
              "    }\n",
              "\n",
              "    .dataframe thead th {\n",
              "        text-align: right;\n",
              "    }\n",
              "</style>\n",
              "<table border=\"1\" class=\"dataframe\">\n",
              "  <thead>\n",
              "    <tr style=\"text-align: right;\">\n",
              "      <th></th>\n",
              "      <th>text</th>\n",
              "    </tr>\n",
              "  </thead>\n",
              "  <tbody>\n",
              "    <tr>\n",
              "      <th>0</th>\n",
              "      <td>@desjudicata well then https://t.co/Y6KZOcweMV</td>\n",
              "    </tr>\n",
              "    <tr>\n",
              "      <th>1</th>\n",
              "      <td>RT @bertybrates: i lost my smile again but i'm...</td>\n",
              "    </tr>\n",
              "    <tr>\n",
              "      <th>2</th>\n",
              "      <td>RT @OurMindsNotURS: Asymptomatic=No symptoms.\\...</td>\n",
              "    </tr>\n",
              "    <tr>\n",
              "      <th>3</th>\n",
              "      <td>RT @DannyBate4: a handy medievalist's guide to...</td>\n",
              "    </tr>\n",
              "    <tr>\n",
              "      <th>4</th>\n",
              "      <td>RT @TheWaleAgbede: You want to be driving your...</td>\n",
              "    </tr>\n",
              "    <tr>\n",
              "      <th>5</th>\n",
              "      <td>RT @lt_freedom: Plagues, Famines, Floods, &amp;amp...</td>\n",
              "    </tr>\n",
              "    <tr>\n",
              "      <th>6</th>\n",
              "      <td>RT @brhodes: Imagine what Republicans would sa...</td>\n",
              "    </tr>\n",
              "    <tr>\n",
              "      <th>7</th>\n",
              "      <td>@Fluffn_army Hein ?</td>\n",
              "    </tr>\n",
              "    <tr>\n",
              "      <th>8</th>\n",
              "      <td>The user @cIoutIessm you follow was suspended,...</td>\n",
              "    </tr>\n",
              "    <tr>\n",
              "      <th>9</th>\n",
              "      <td>RT @ComradeMallu: Scenes from Rajamala of Iduk...</td>\n",
              "    </tr>\n",
              "    <tr>\n",
              "      <th>10</th>\n",
              "      <td>RT @diaoln: The perfect DJ doesn't exis- https...</td>\n",
              "    </tr>\n",
              "    <tr>\n",
              "      <th>11</th>\n",
              "      <td>RT @haruharu_w_bts: 200807 / 05:41PM KST\\n🐿 \\n...</td>\n",
              "    </tr>\n",
              "    <tr>\n",
              "      <th>12</th>\n",
              "      <td>@czhoiyeonjun Okay! Hawaiian it is!! :D I'll p...</td>\n",
              "    </tr>\n",
              "    <tr>\n",
              "      <th>13</th>\n",
              "      <td>@almaplateada @hachi_08 Like, I will REALLY ke...</td>\n",
              "    </tr>\n",
              "    <tr>\n",
              "      <th>14</th>\n",
              "      <td>RT @Cryptotvplus: ARE YOU READY?\\nIt's just fi...</td>\n",
              "    </tr>\n",
              "    <tr>\n",
              "      <th>15</th>\n",
              "      <td>@btsvotingorg If you love these 7 beautiful me...</td>\n",
              "    </tr>\n",
              "  </tbody>\n",
              "</table>\n",
              "</div>"
            ],
            "text/plain": [
              "                                                 text\n",
              "0      @desjudicata well then https://t.co/Y6KZOcweMV\n",
              "1   RT @bertybrates: i lost my smile again but i'm...\n",
              "2   RT @OurMindsNotURS: Asymptomatic=No symptoms.\\...\n",
              "3   RT @DannyBate4: a handy medievalist's guide to...\n",
              "4   RT @TheWaleAgbede: You want to be driving your...\n",
              "5   RT @lt_freedom: Plagues, Famines, Floods, &amp...\n",
              "6   RT @brhodes: Imagine what Republicans would sa...\n",
              "7                                 @Fluffn_army Hein ?\n",
              "8   The user @cIoutIessm you follow was suspended,...\n",
              "9   RT @ComradeMallu: Scenes from Rajamala of Iduk...\n",
              "10  RT @diaoln: The perfect DJ doesn't exis- https...\n",
              "11  RT @haruharu_w_bts: 200807 / 05:41PM KST\\n🐿 \\n...\n",
              "12  @czhoiyeonjun Okay! Hawaiian it is!! :D I'll p...\n",
              "13  @almaplateada @hachi_08 Like, I will REALLY ke...\n",
              "14  RT @Cryptotvplus: ARE YOU READY?\\nIt's just fi...\n",
              "15  @btsvotingorg If you love these 7 beautiful me..."
            ]
          },
          "metadata": {
            "tags": []
          },
          "execution_count": 2
        }
      ]
    },
    {
      "cell_type": "code",
      "metadata": {
        "id": "iz52io36j9E5",
        "colab_type": "code",
        "colab": {
          "base_uri": "https://localhost:8080/",
          "height": 545
        },
        "outputId": "05031878-1e63-4487-c64d-ce327bcb8ab7"
      },
      "source": [
        "Data.drop_duplicates(subset='text')"
      ],
      "execution_count": 3,
      "outputs": [
        {
          "output_type": "execute_result",
          "data": {
            "text/html": [
              "<div>\n",
              "<style scoped>\n",
              "    .dataframe tbody tr th:only-of-type {\n",
              "        vertical-align: middle;\n",
              "    }\n",
              "\n",
              "    .dataframe tbody tr th {\n",
              "        vertical-align: top;\n",
              "    }\n",
              "\n",
              "    .dataframe thead th {\n",
              "        text-align: right;\n",
              "    }\n",
              "</style>\n",
              "<table border=\"1\" class=\"dataframe\">\n",
              "  <thead>\n",
              "    <tr style=\"text-align: right;\">\n",
              "      <th></th>\n",
              "      <th>text</th>\n",
              "    </tr>\n",
              "  </thead>\n",
              "  <tbody>\n",
              "    <tr>\n",
              "      <th>0</th>\n",
              "      <td>@desjudicata well then https://t.co/Y6KZOcweMV</td>\n",
              "    </tr>\n",
              "    <tr>\n",
              "      <th>1</th>\n",
              "      <td>RT @bertybrates: i lost my smile again but i'm...</td>\n",
              "    </tr>\n",
              "    <tr>\n",
              "      <th>2</th>\n",
              "      <td>RT @OurMindsNotURS: Asymptomatic=No symptoms.\\...</td>\n",
              "    </tr>\n",
              "    <tr>\n",
              "      <th>3</th>\n",
              "      <td>RT @DannyBate4: a handy medievalist's guide to...</td>\n",
              "    </tr>\n",
              "    <tr>\n",
              "      <th>4</th>\n",
              "      <td>RT @TheWaleAgbede: You want to be driving your...</td>\n",
              "    </tr>\n",
              "    <tr>\n",
              "      <th>5</th>\n",
              "      <td>RT @lt_freedom: Plagues, Famines, Floods, &amp;amp...</td>\n",
              "    </tr>\n",
              "    <tr>\n",
              "      <th>6</th>\n",
              "      <td>RT @brhodes: Imagine what Republicans would sa...</td>\n",
              "    </tr>\n",
              "    <tr>\n",
              "      <th>7</th>\n",
              "      <td>@Fluffn_army Hein ?</td>\n",
              "    </tr>\n",
              "    <tr>\n",
              "      <th>8</th>\n",
              "      <td>The user @cIoutIessm you follow was suspended,...</td>\n",
              "    </tr>\n",
              "    <tr>\n",
              "      <th>9</th>\n",
              "      <td>RT @ComradeMallu: Scenes from Rajamala of Iduk...</td>\n",
              "    </tr>\n",
              "    <tr>\n",
              "      <th>10</th>\n",
              "      <td>RT @diaoln: The perfect DJ doesn't exis- https...</td>\n",
              "    </tr>\n",
              "    <tr>\n",
              "      <th>11</th>\n",
              "      <td>RT @haruharu_w_bts: 200807 / 05:41PM KST\\n🐿 \\n...</td>\n",
              "    </tr>\n",
              "    <tr>\n",
              "      <th>12</th>\n",
              "      <td>@czhoiyeonjun Okay! Hawaiian it is!! :D I'll p...</td>\n",
              "    </tr>\n",
              "    <tr>\n",
              "      <th>13</th>\n",
              "      <td>@almaplateada @hachi_08 Like, I will REALLY ke...</td>\n",
              "    </tr>\n",
              "    <tr>\n",
              "      <th>14</th>\n",
              "      <td>RT @Cryptotvplus: ARE YOU READY?\\nIt's just fi...</td>\n",
              "    </tr>\n",
              "    <tr>\n",
              "      <th>15</th>\n",
              "      <td>@btsvotingorg If you love these 7 beautiful me...</td>\n",
              "    </tr>\n",
              "  </tbody>\n",
              "</table>\n",
              "</div>"
            ],
            "text/plain": [
              "                                                 text\n",
              "0      @desjudicata well then https://t.co/Y6KZOcweMV\n",
              "1   RT @bertybrates: i lost my smile again but i'm...\n",
              "2   RT @OurMindsNotURS: Asymptomatic=No symptoms.\\...\n",
              "3   RT @DannyBate4: a handy medievalist's guide to...\n",
              "4   RT @TheWaleAgbede: You want to be driving your...\n",
              "5   RT @lt_freedom: Plagues, Famines, Floods, &amp...\n",
              "6   RT @brhodes: Imagine what Republicans would sa...\n",
              "7                                 @Fluffn_army Hein ?\n",
              "8   The user @cIoutIessm you follow was suspended,...\n",
              "9   RT @ComradeMallu: Scenes from Rajamala of Iduk...\n",
              "10  RT @diaoln: The perfect DJ doesn't exis- https...\n",
              "11  RT @haruharu_w_bts: 200807 / 05:41PM KST\\n🐿 \\n...\n",
              "12  @czhoiyeonjun Okay! Hawaiian it is!! :D I'll p...\n",
              "13  @almaplateada @hachi_08 Like, I will REALLY ke...\n",
              "14  RT @Cryptotvplus: ARE YOU READY?\\nIt's just fi...\n",
              "15  @btsvotingorg If you love these 7 beautiful me..."
            ]
          },
          "metadata": {
            "tags": []
          },
          "execution_count": 3
        }
      ]
    },
    {
      "cell_type": "code",
      "metadata": {
        "id": "J0AQGg8GkpyG",
        "colab_type": "code",
        "colab": {
          "base_uri": "https://localhost:8080/",
          "height": 545
        },
        "outputId": "9c868ec6-37ae-486e-fb97-34b667eb2c5e"
      },
      "source": [
        "Data.drop_duplicates(subset='text')"
      ],
      "execution_count": 4,
      "outputs": [
        {
          "output_type": "execute_result",
          "data": {
            "text/html": [
              "<div>\n",
              "<style scoped>\n",
              "    .dataframe tbody tr th:only-of-type {\n",
              "        vertical-align: middle;\n",
              "    }\n",
              "\n",
              "    .dataframe tbody tr th {\n",
              "        vertical-align: top;\n",
              "    }\n",
              "\n",
              "    .dataframe thead th {\n",
              "        text-align: right;\n",
              "    }\n",
              "</style>\n",
              "<table border=\"1\" class=\"dataframe\">\n",
              "  <thead>\n",
              "    <tr style=\"text-align: right;\">\n",
              "      <th></th>\n",
              "      <th>text</th>\n",
              "    </tr>\n",
              "  </thead>\n",
              "  <tbody>\n",
              "    <tr>\n",
              "      <th>0</th>\n",
              "      <td>@desjudicata well then https://t.co/Y6KZOcweMV</td>\n",
              "    </tr>\n",
              "    <tr>\n",
              "      <th>1</th>\n",
              "      <td>RT @bertybrates: i lost my smile again but i'm...</td>\n",
              "    </tr>\n",
              "    <tr>\n",
              "      <th>2</th>\n",
              "      <td>RT @OurMindsNotURS: Asymptomatic=No symptoms.\\...</td>\n",
              "    </tr>\n",
              "    <tr>\n",
              "      <th>3</th>\n",
              "      <td>RT @DannyBate4: a handy medievalist's guide to...</td>\n",
              "    </tr>\n",
              "    <tr>\n",
              "      <th>4</th>\n",
              "      <td>RT @TheWaleAgbede: You want to be driving your...</td>\n",
              "    </tr>\n",
              "    <tr>\n",
              "      <th>5</th>\n",
              "      <td>RT @lt_freedom: Plagues, Famines, Floods, &amp;amp...</td>\n",
              "    </tr>\n",
              "    <tr>\n",
              "      <th>6</th>\n",
              "      <td>RT @brhodes: Imagine what Republicans would sa...</td>\n",
              "    </tr>\n",
              "    <tr>\n",
              "      <th>7</th>\n",
              "      <td>@Fluffn_army Hein ?</td>\n",
              "    </tr>\n",
              "    <tr>\n",
              "      <th>8</th>\n",
              "      <td>The user @cIoutIessm you follow was suspended,...</td>\n",
              "    </tr>\n",
              "    <tr>\n",
              "      <th>9</th>\n",
              "      <td>RT @ComradeMallu: Scenes from Rajamala of Iduk...</td>\n",
              "    </tr>\n",
              "    <tr>\n",
              "      <th>10</th>\n",
              "      <td>RT @diaoln: The perfect DJ doesn't exis- https...</td>\n",
              "    </tr>\n",
              "    <tr>\n",
              "      <th>11</th>\n",
              "      <td>RT @haruharu_w_bts: 200807 / 05:41PM KST\\n🐿 \\n...</td>\n",
              "    </tr>\n",
              "    <tr>\n",
              "      <th>12</th>\n",
              "      <td>@czhoiyeonjun Okay! Hawaiian it is!! :D I'll p...</td>\n",
              "    </tr>\n",
              "    <tr>\n",
              "      <th>13</th>\n",
              "      <td>@almaplateada @hachi_08 Like, I will REALLY ke...</td>\n",
              "    </tr>\n",
              "    <tr>\n",
              "      <th>14</th>\n",
              "      <td>RT @Cryptotvplus: ARE YOU READY?\\nIt's just fi...</td>\n",
              "    </tr>\n",
              "    <tr>\n",
              "      <th>15</th>\n",
              "      <td>@btsvotingorg If you love these 7 beautiful me...</td>\n",
              "    </tr>\n",
              "  </tbody>\n",
              "</table>\n",
              "</div>"
            ],
            "text/plain": [
              "                                                 text\n",
              "0      @desjudicata well then https://t.co/Y6KZOcweMV\n",
              "1   RT @bertybrates: i lost my smile again but i'm...\n",
              "2   RT @OurMindsNotURS: Asymptomatic=No symptoms.\\...\n",
              "3   RT @DannyBate4: a handy medievalist's guide to...\n",
              "4   RT @TheWaleAgbede: You want to be driving your...\n",
              "5   RT @lt_freedom: Plagues, Famines, Floods, &amp...\n",
              "6   RT @brhodes: Imagine what Republicans would sa...\n",
              "7                                 @Fluffn_army Hein ?\n",
              "8   The user @cIoutIessm you follow was suspended,...\n",
              "9   RT @ComradeMallu: Scenes from Rajamala of Iduk...\n",
              "10  RT @diaoln: The perfect DJ doesn't exis- https...\n",
              "11  RT @haruharu_w_bts: 200807 / 05:41PM KST\\n🐿 \\n...\n",
              "12  @czhoiyeonjun Okay! Hawaiian it is!! :D I'll p...\n",
              "13  @almaplateada @hachi_08 Like, I will REALLY ke...\n",
              "14  RT @Cryptotvplus: ARE YOU READY?\\nIt's just fi...\n",
              "15  @btsvotingorg If you love these 7 beautiful me..."
            ]
          },
          "metadata": {
            "tags": []
          },
          "execution_count": 4
        }
      ]
    },
    {
      "cell_type": "code",
      "metadata": {
        "id": "9MI-Kotck1Uk",
        "colab_type": "code",
        "colab": {
          "base_uri": "https://localhost:8080/",
          "height": 204
        },
        "outputId": "e3bf34f4-ba04-441b-d7ba-c45c1d02e1fc"
      },
      "source": [
        "Repeats = Data.groupby(['text']).size().reset_index(name='counts')\\\n",
        ".sort_values('counts',ascending=False).head(10)\n",
        "\n",
        "print(Repeats)"
      ],
      "execution_count": 6,
      "outputs": [
        {
          "output_type": "stream",
          "text": [
            "                                                text  counts\n",
            "0                                @Fluffn_army Hein ?       1\n",
            "1  @almaplateada @hachi_08 Like, I will REALLY ke...       1\n",
            "2  @btsvotingorg If you love these 7 beautiful me...       1\n",
            "3  @czhoiyeonjun Okay! Hawaiian it is!! :D I'll p...       1\n",
            "4     @desjudicata well then https://t.co/Y6KZOcweMV       1\n",
            "5  RT @ComradeMallu: Scenes from Rajamala of Iduk...       1\n",
            "6  RT @Cryptotvplus: ARE YOU READY?\\nIt's just fi...       1\n",
            "7  RT @DannyBate4: a handy medievalist's guide to...       1\n",
            "8  RT @OurMindsNotURS: Asymptomatic=No symptoms.\\...       1\n",
            "9  RT @TheWaleAgbede: You want to be driving your...       1\n"
          ],
          "name": "stdout"
        }
      ]
    },
    {
      "cell_type": "code",
      "metadata": {
        "id": "1LxSwdcHk6py",
        "colab_type": "code",
        "colab": {
          "base_uri": "https://localhost:8080/",
          "height": 377
        },
        "outputId": "601dd0a4-6ee9-487e-c9ca-9451dfe44adf"
      },
      "source": [
        "\"\"\"#Clean Tweet\"\"\"\n",
        "\n",
        "import nltk\n",
        "nltk.download('stopwords')\n",
        "\n",
        "from nltk.corpus import stopwords\n",
        "stops = ['rt','rts','retweet']\n",
        "stop_words = set().union(stopwords.words('english'),stops)\n",
        "\n",
        "print(stop_words)\n",
        "\n",
        "Data['processed_text'] = Data['text'].str.lower()\\\n",
        "          .str.replace('(@[a-z0-9]+)\\w+',' ')\\\n",
        "          .str.replace('(http\\S+)', ' ')\\\n",
        "          .str.replace('([^a-z \\t])',' ')\\\n",
        "          .str.replace(' +',' ')\\\n",
        "          .apply(lambda x: [i for i in x.split() if not i in stop_words])\n",
        "\n",
        "print(Data)"
      ],
      "execution_count": 7,
      "outputs": [
        {
          "output_type": "stream",
          "text": [
            "[nltk_data] Downloading package stopwords to /root/nltk_data...\n",
            "[nltk_data]   Unzipping corpora/stopwords.zip.\n",
            "{'those', 'shan', 'she', 'now', 'hasn', 'ourselves', \"wouldn't\", 'can', 'all', 'from', 'hers', 'up', 'mustn', 'during', 'further', 've', 'didn', 'against', 'wouldn', 'will', 'being', 'here', 'having', 'after', 'o', 'nor', 'myself', 'he', 'them', 'll', \"needn't\", 'yourself', 'until', 'out', 'but', 'most', 'they', 'again', 'by', \"wasn't\", 'these', 'don', 'just', \"you'll\", 'doing', 'if', 'while', \"haven't\", \"shan't\", 'couldn', 'its', 'off', 'more', 'does', 'were', 'about', \"don't\", 'only', \"hadn't\", \"mustn't\", 'her', 't', \"couldn't\", \"won't\", 'or', 'own', 'under', 'are', \"doesn't\", 'rt', 'that', 'at', 'such', 'ain', 'did', 'why', 's', 'what', 'who', \"hasn't\", 'isn', 'ours', 'between', \"mightn't\", 'few', 'herself', 'any', \"it's\", 'i', 'an', 'too', 'his', 'you', 'with', 'when', 'once', 'this', 'no', 'has', 'retweet', 'we', 're', \"didn't\", 'which', 'haven', 'rts', 'there', 'was', 'theirs', 'needn', 'through', 'over', 'm', 'my', \"aren't\", 'mightn', \"you've\", 'below', 'yourselves', 'd', \"weren't\", 'is', 'yours', 'wasn', \"she's\", 'in', 'y', 'be', 'hadn', 'as', 'aren', 'above', 'same', 'so', 'shouldn', 'where', 'me', \"you're\", \"shouldn't\", \"should've\", 'both', 'whom', 'our', 'into', 'other', 'the', 'their', 'do', 'not', 'on', 'very', 'had', 'am', 'and', 'because', 'have', 'of', 'been', 'him', \"you'd\", 'ma', 'weren', 'itself', \"isn't\", 'a', 'himself', 'your', 'it', 'down', 'each', 'before', 'how', 'to', 'won', \"that'll\", 'should', 'then', 'for', 'doesn', 'than', 'themselves', 'some'}\n",
            "                                                 text                                     processed_text\n",
            "0      @desjudicata well then https://t.co/Y6KZOcweMV                                             [well]\n",
            "1   RT @bertybrates: i lost my smile again but i'm...                                [lost, smile, okay]\n",
            "2   RT @OurMindsNotURS: Asymptomatic=No symptoms.\\...  [asymptomatic, symptoms, symptoms, fuck, wrong...\n",
            "3   RT @DannyBate4: a handy medievalist's guide to...  [handy, medievalist, guide, national, anthems,...\n",
            "4   RT @TheWaleAgbede: You want to be driving your...  [want, driving, car, fuel, price, going, want,...\n",
            "5   RT @lt_freedom: Plagues, Famines, Floods, &amp...  [plagues, famines, floods, amp, fires, one, ev...\n",
            "6   RT @brhodes: Imagine what Republicans would sa...  [imagine, republicans, would, say, obama, pres...\n",
            "7                                 @Fluffn_army Hein ?                                             [hein]\n",
            "8   The user @cIoutIessm you follow was suspended,...  [user, follow, suspended, suspect, hateful, la...\n",
            "9   RT @ComradeMallu: Scenes from Rajamala of Iduk...  [scenes, rajamala, idukki, district, landslide...\n",
            "10  RT @diaoln: The perfect DJ doesn't exis- https...                                [perfect, dj, exis]\n",
            "11  RT @haruharu_w_bts: 200807 / 05:41PM KST\\n🐿 \\n...                                          [pm, kst]\n",
            "12  @czhoiyeonjun Okay! Hawaiian it is!! :D I'll p...                   [okay, hawaiian, pay, time, uwu]\n",
            "13  @almaplateada @hachi_08 Like, I will REALLY ke...                     [like, really, keep, memories]\n",
            "14  RT @Cryptotvplus: ARE YOU READY?\\nIt's just fi...  [ready, five, days, blockchain, cryptocurrency...\n",
            "15  @btsvotingorg If you love these 7 beautiful me...  [love, beautiful, men, gif, tweet, using, hash...\n"
          ],
          "name": "stdout"
        }
      ]
    },
    {
      "cell_type": "code",
      "metadata": {
        "id": "-IgxFpR6rpD9",
        "colab_type": "code",
        "colab": {
          "base_uri": "https://localhost:8080/",
          "height": 408
        },
        "outputId": "b3dfcab9-bc24-47c5-d48d-bc4ed2fe5e5a"
      },
      "source": [
        "\"\"\"#Hashtag\"\"\"\n",
        "\n",
        "import re\n",
        "text = Data['processed_text']\n",
        "\n",
        "def find_hastag(text):\n",
        "  return re.findall('(#[A-Za-z]+[A-Za-z0-9-]+)',text)\n",
        "\n",
        "Data['hashtags'] = Data.text.apply(find_hastag)\n",
        "\n",
        "print(Data)\n",
        "\n",
        "hashtags = Data['text'].apply(lambda x: pd.value_counts(re.findall('(#\\w+)', x.lower() )))\\\n",
        ".sum(axis=0)\\\n",
        ".to_frame()\\\n",
        ".reset_index()\\\n",
        ".sort_values(by=0,ascending=False)\n",
        "\n",
        "hashtags.columns = ['hastags','occurances']\n",
        "\n",
        "print(hashtags)"
      ],
      "execution_count": 8,
      "outputs": [
        {
          "output_type": "stream",
          "text": [
            "                                                 text  ...             hashtags\n",
            "0      @desjudicata well then https://t.co/Y6KZOcweMV  ...                   []\n",
            "1   RT @bertybrates: i lost my smile again but i'm...  ...                   []\n",
            "2   RT @OurMindsNotURS: Asymptomatic=No symptoms.\\...  ...                   []\n",
            "3   RT @DannyBate4: a handy medievalist's guide to...  ...                   []\n",
            "4   RT @TheWaleAgbede: You want to be driving your...  ...                   []\n",
            "5   RT @lt_freedom: Plagues, Famines, Floods, &amp...  ...                   []\n",
            "6   RT @brhodes: Imagine what Republicans would sa...  ...                   []\n",
            "7                                 @Fluffn_army Hein ?  ...                   []\n",
            "8   The user @cIoutIessm you follow was suspended,...  ...                   []\n",
            "9   RT @ComradeMallu: Scenes from Rajamala of Iduk...  ...    [#KeralaRain2020]\n",
            "10  RT @diaoln: The perfect DJ doesn't exis- https...  ...                   []\n",
            "11  RT @haruharu_w_bts: 200807 / 05:41PM KST\\n🐿 \\n...  ...                   []\n",
            "12  @czhoiyeonjun Okay! Hawaiian it is!! :D I'll p...  ...                   []\n",
            "13  @almaplateada @hachi_08 Like, I will REALLY ke...  ...                   []\n",
            "14  RT @Cryptotvplus: ARE YOU READY?\\nIt's just fi...  ...                   []\n",
            "15  @btsvotingorg If you love these 7 beautiful me...  ...  [#ExaARMY, #ExaBFF]\n",
            "\n",
            "[16 rows x 3 columns]\n",
            "           hastags  occurances\n",
            "0         #exaarmy         1.0\n",
            "1          #exabff         1.0\n",
            "2  #keralarain2020         1.0\n"
          ],
          "name": "stdout"
        }
      ]
    },
    {
      "cell_type": "code",
      "metadata": {
        "id": "5WSWEo8Yrsod",
        "colab_type": "code",
        "colab": {
          "base_uri": "https://localhost:8080/",
          "height": 340
        },
        "outputId": "5ff2a1f7-f128-4624-f3bf-c79b546cbdd0"
      },
      "source": [
        "from nltk.stem import PorterStemmer\n",
        "ps = PorterStemmer()\n",
        "\n",
        "Data['Stemming'] = Data['processed_text'].apply(lambda x: [ps.stem(i) for i in x if 1!=\"\"])\n",
        "\n",
        "print(Data)\n"
      ],
      "execution_count": 9,
      "outputs": [
        {
          "output_type": "stream",
          "text": [
            "                                                 text  ...                                           Stemming\n",
            "0      @desjudicata well then https://t.co/Y6KZOcweMV  ...                                             [well]\n",
            "1   RT @bertybrates: i lost my smile again but i'm...  ...                                [lost, smile, okay]\n",
            "2   RT @OurMindsNotURS: Asymptomatic=No symptoms.\\...  ...  [asymptomat, symptom, symptom, fuck, wrong, co...\n",
            "3   RT @DannyBate4: a handy medievalist's guide to...  ...  [handi, medievalist, guid, nation, anthem, europ]\n",
            "4   RT @TheWaleAgbede: You want to be driving your...  ...  [want, drive, car, fuel, price, go, want, take...\n",
            "5   RT @lt_freedom: Plagues, Famines, Floods, &amp...  ...  [plagu, famin, flood, amp, fire, one, ever, sa...\n",
            "6   RT @brhodes: Imagine what Republicans would sa...  ...  [imagin, republican, would, say, obama, presid...\n",
            "7                                 @Fluffn_army Hein ?  ...                                             [hein]\n",
            "8   The user @cIoutIessm you follow was suspended,...  ...  [user, follow, suspend, suspect, hate, languag...\n",
            "9   RT @ComradeMallu: Scenes from Rajamala of Iduk...  ...  [scene, rajamala, idukki, district, landslid, ...\n",
            "10  RT @diaoln: The perfect DJ doesn't exis- https...  ...                                 [perfect, dj, exi]\n",
            "11  RT @haruharu_w_bts: 200807 / 05:41PM KST\\n🐿 \\n...  ...                                          [pm, kst]\n",
            "12  @czhoiyeonjun Okay! Hawaiian it is!! :D I'll p...  ...                   [okay, hawaiian, pay, time, uwu]\n",
            "13  @almaplateada @hachi_08 Like, I will REALLY ke...  ...                       [like, realli, keep, memori]\n",
            "14  RT @Cryptotvplus: ARE YOU READY?\\nIt's just fi...  ...  [readi, five, day, blockchain, cryptocurr, awa...\n",
            "15  @btsvotingorg If you love these 7 beautiful me...  ...  [love, beauti, men, gif, tweet, use, hashtag, ...\n",
            "\n",
            "[16 rows x 4 columns]\n"
          ],
          "name": "stdout"
        }
      ]
    },
    {
      "cell_type": "code",
      "metadata": {
        "id": "x7-fX77qr6ja",
        "colab_type": "code",
        "colab": {
          "base_uri": "https://localhost:8080/",
          "height": 340
        },
        "outputId": "8cbec6b9-6ac5-4b12-ea11-ce9281152344"
      },
      "source": [
        "from nltk.stem import SnowballStemmer\n",
        "\n",
        "sb = SnowballStemmer(\"english\")\n",
        "\n",
        "Data['Sb_Stemming'] = Data['processed_text'].apply(lambda x: [ps.stem(i) for i in x if 1!=\"\"])\n",
        "\n",
        "print(Data)"
      ],
      "execution_count": 10,
      "outputs": [
        {
          "output_type": "stream",
          "text": [
            "                                                 text  ...                                        Sb_Stemming\n",
            "0      @desjudicata well then https://t.co/Y6KZOcweMV  ...                                             [well]\n",
            "1   RT @bertybrates: i lost my smile again but i'm...  ...                                [lost, smile, okay]\n",
            "2   RT @OurMindsNotURS: Asymptomatic=No symptoms.\\...  ...  [asymptomat, symptom, symptom, fuck, wrong, co...\n",
            "3   RT @DannyBate4: a handy medievalist's guide to...  ...  [handi, medievalist, guid, nation, anthem, europ]\n",
            "4   RT @TheWaleAgbede: You want to be driving your...  ...  [want, drive, car, fuel, price, go, want, take...\n",
            "5   RT @lt_freedom: Plagues, Famines, Floods, &amp...  ...  [plagu, famin, flood, amp, fire, one, ever, sa...\n",
            "6   RT @brhodes: Imagine what Republicans would sa...  ...  [imagin, republican, would, say, obama, presid...\n",
            "7                                 @Fluffn_army Hein ?  ...                                             [hein]\n",
            "8   The user @cIoutIessm you follow was suspended,...  ...  [user, follow, suspend, suspect, hate, languag...\n",
            "9   RT @ComradeMallu: Scenes from Rajamala of Iduk...  ...  [scene, rajamala, idukki, district, landslid, ...\n",
            "10  RT @diaoln: The perfect DJ doesn't exis- https...  ...                                 [perfect, dj, exi]\n",
            "11  RT @haruharu_w_bts: 200807 / 05:41PM KST\\n🐿 \\n...  ...                                          [pm, kst]\n",
            "12  @czhoiyeonjun Okay! Hawaiian it is!! :D I'll p...  ...                   [okay, hawaiian, pay, time, uwu]\n",
            "13  @almaplateada @hachi_08 Like, I will REALLY ke...  ...                       [like, realli, keep, memori]\n",
            "14  RT @Cryptotvplus: ARE YOU READY?\\nIt's just fi...  ...  [readi, five, day, blockchain, cryptocurr, awa...\n",
            "15  @btsvotingorg If you love these 7 beautiful me...  ...  [love, beauti, men, gif, tweet, use, hashtag, ...\n",
            "\n",
            "[16 rows x 5 columns]\n"
          ],
          "name": "stdout"
        }
      ]
    },
    {
      "cell_type": "code",
      "metadata": {
        "id": "OX7HmGJAsC8A",
        "colab_type": "code",
        "colab": {}
      },
      "source": [
        "from nltk.tag import pos_tag\n",
        "from nltk.stem.wordnet import WordNetLemmatizer\n",
        "\n",
        "texts = Data['text']\n",
        "def lemmatize_sentence(texts):\n",
        "    lemmatizer = WordNetLemmatizer()\n",
        "    lemmatized_sentence = []\n",
        "    for word, tag in pos_tag(texts):\n",
        "        if tag.startswith('NN'):\n",
        "            pos = 'n'\n",
        "        elif tag.startswith('VB'):\n",
        "            pos = 'v'\n",
        "        else:\n",
        "            pos = 'a'\n",
        "        lemmatized_sentence.append(lemmatizer.lemmatize(word, pos))\n",
        "    return lemmatized_sentence\n",
        "\n",
        "Data['text_lemmatized'] = Data.processed_text.apply(lemmatize_sentence)\n"
      ],
      "execution_count": 28,
      "outputs": []
    },
    {
      "cell_type": "code",
      "metadata": {
        "id": "eRveTX9Njxlq",
        "colab_type": "code",
        "colab": {
          "base_uri": "https://localhost:8080/",
          "height": 340
        },
        "outputId": "cfa1cad9-9add-4377-b974-8932779b472e"
      },
      "source": [
        "print(Data)"
      ],
      "execution_count": 29,
      "outputs": [
        {
          "output_type": "stream",
          "text": [
            "                                                 text  ...                                    text_lemmatized\n",
            "0      @desjudicata well then https://t.co/Y6KZOcweMV  ...                                             [well]\n",
            "1   RT @bertybrates: i lost my smile again but i'm...  ...                                [lose, smile, okay]\n",
            "2   RT @OurMindsNotURS: Asymptomatic=No symptoms.\\...  ...  [asymptomatic, symptom, symptom, fuck, wrong, ...\n",
            "3   RT @DannyBate4: a handy medievalist's guide to...  ...  [handy, medievalist, guide, national, anthem, ...\n",
            "4   RT @TheWaleAgbede: You want to be driving your...  ...  [want, driving, car, fuel, price, go, want, ta...\n",
            "5   RT @lt_freedom: Plagues, Famines, Floods, &amp...  ...  [plague, famine, flood, amp, fire, one, ever, ...\n",
            "6   RT @brhodes: Imagine what Republicans would sa...  ...  [imagine, republican, would, say, obama, presi...\n",
            "7                                 @Fluffn_army Hein ?  ...                                             [hein]\n",
            "8   The user @cIoutIessm you follow was suspended,...  ...  [user, follow, suspend, suspect, hateful, lang...\n",
            "9   RT @ComradeMallu: Scenes from Rajamala of Iduk...  ...  [scene, rajamala, idukki, district, landslide,...\n",
            "10  RT @diaoln: The perfect DJ doesn't exis- https...  ...                                [perfect, dj, exis]\n",
            "11  RT @haruharu_w_bts: 200807 / 05:41PM KST\\n🐿 \\n...  ...                                          [pm, kst]\n",
            "12  @czhoiyeonjun Okay! Hawaiian it is!! :D I'll p...  ...                   [okay, hawaiian, pay, time, uwu]\n",
            "13  @almaplateada @hachi_08 Like, I will REALLY ke...  ...                       [like, really, keep, memory]\n",
            "14  RT @Cryptotvplus: ARE YOU READY?\\nIt's just fi...  ...  [ready, five, day, blockchain, cryptocurrency,...\n",
            "15  @btsvotingorg If you love these 7 beautiful me...  ...  [love, beautiful, men, gif, tweet, use, hashta...\n",
            "\n",
            "[16 rows x 6 columns]\n"
          ],
          "name": "stdout"
        }
      ]
    },
    {
      "cell_type": "code",
      "metadata": {
        "id": "x9F2jQrskUk2",
        "colab_type": "code",
        "colab": {}
      },
      "source": [
        ""
      ],
      "execution_count": null,
      "outputs": []
    },
    {
      "cell_type": "code",
      "metadata": {
        "id": "hZWyxL2Bp6Hm",
        "colab_type": "code",
        "colab": {
          "base_uri": "https://localhost:8080/",
          "height": 68
        },
        "outputId": "293ab54b-a81c-468e-9da6-b5b2285455d9"
      },
      "source": [
        "nltk.download('wordnet')"
      ],
      "execution_count": 19,
      "outputs": [
        {
          "output_type": "stream",
          "text": [
            "[nltk_data] Downloading package wordnet to /root/nltk_data...\n",
            "[nltk_data]   Unzipping corpora/wordnet.zip.\n"
          ],
          "name": "stdout"
        },
        {
          "output_type": "execute_result",
          "data": {
            "text/plain": [
              "True"
            ]
          },
          "metadata": {
            "tags": []
          },
          "execution_count": 19
        }
      ]
    },
    {
      "cell_type": "code",
      "metadata": {
        "id": "WEbeBt1VwtU6",
        "colab_type": "code",
        "colab": {
          "base_uri": "https://localhost:8080/",
          "height": 85
        },
        "outputId": "baa9de7b-21fc-4002-e88a-233d63ec2fba"
      },
      "source": [
        "pip install nlppreprocess"
      ],
      "execution_count": 20,
      "outputs": [
        {
          "output_type": "stream",
          "text": [
            "Collecting nlppreprocess\n",
            "  Downloading https://files.pythonhosted.org/packages/66/8d/3a0584b924248c865a8e7ee04a93175551ebcaf156ee9b73346cd62446e6/nlppreprocess-1.0.2-py3-none-any.whl\n",
            "Installing collected packages: nlppreprocess\n",
            "Successfully installed nlppreprocess-1.0.2\n"
          ],
          "name": "stdout"
        }
      ]
    },
    {
      "cell_type": "code",
      "metadata": {
        "id": "ud2hYbOUvrZg",
        "colab_type": "code",
        "colab": {
          "base_uri": "https://localhost:8080/",
          "height": 394
        },
        "outputId": "a7eeea21-c90f-4d0b-8618-3cf9983eb4c3"
      },
      "source": [
        "pip install tag"
      ],
      "execution_count": 24,
      "outputs": [
        {
          "output_type": "stream",
          "text": [
            "Collecting tag\n",
            "\u001b[?25l  Downloading https://files.pythonhosted.org/packages/0c/f9/8137aef94eac8a2c9edae9dac9c0b992c34c6a5a019046cdf90cf689b4d9/tag-0.5.tar.gz (758kB)\n",
            "\r\u001b[K     |▍                               | 10kB 18.9MB/s eta 0:00:01\r\u001b[K     |▉                               | 20kB 1.8MB/s eta 0:00:01\r\u001b[K     |█▎                              | 30kB 2.3MB/s eta 0:00:01\r\u001b[K     |█▊                              | 40kB 2.5MB/s eta 0:00:01\r\u001b[K     |██▏                             | 51kB 2.0MB/s eta 0:00:01\r\u001b[K     |██▋                             | 61kB 2.3MB/s eta 0:00:01\r\u001b[K     |███                             | 71kB 2.5MB/s eta 0:00:01\r\u001b[K     |███▌                            | 81kB 2.7MB/s eta 0:00:01\r\u001b[K     |███▉                            | 92kB 2.9MB/s eta 0:00:01\r\u001b[K     |████▎                           | 102kB 2.8MB/s eta 0:00:01\r\u001b[K     |████▊                           | 112kB 2.8MB/s eta 0:00:01\r\u001b[K     |█████▏                          | 122kB 2.8MB/s eta 0:00:01\r\u001b[K     |█████▋                          | 133kB 2.8MB/s eta 0:00:01\r\u001b[K     |██████                          | 143kB 2.8MB/s eta 0:00:01\r\u001b[K     |██████▌                         | 153kB 2.8MB/s eta 0:00:01\r\u001b[K     |███████                         | 163kB 2.8MB/s eta 0:00:01\r\u001b[K     |███████▍                        | 174kB 2.8MB/s eta 0:00:01\r\u001b[K     |███████▊                        | 184kB 2.8MB/s eta 0:00:01\r\u001b[K     |████████▏                       | 194kB 2.8MB/s eta 0:00:01\r\u001b[K     |████████▋                       | 204kB 2.8MB/s eta 0:00:01\r\u001b[K     |█████████                       | 215kB 2.8MB/s eta 0:00:01\r\u001b[K     |█████████▌                      | 225kB 2.8MB/s eta 0:00:01\r\u001b[K     |██████████                      | 235kB 2.8MB/s eta 0:00:01\r\u001b[K     |██████████▍                     | 245kB 2.8MB/s eta 0:00:01\r\u001b[K     |██████████▉                     | 256kB 2.8MB/s eta 0:00:01\r\u001b[K     |███████████▎                    | 266kB 2.8MB/s eta 0:00:01\r\u001b[K     |███████████▋                    | 276kB 2.8MB/s eta 0:00:01\r\u001b[K     |████████████                    | 286kB 2.8MB/s eta 0:00:01\r\u001b[K     |████████████▌                   | 296kB 2.8MB/s eta 0:00:01\r\u001b[K     |█████████████                   | 307kB 2.8MB/s eta 0:00:01\r\u001b[K     |█████████████▍                  | 317kB 2.8MB/s eta 0:00:01\r\u001b[K     |█████████████▉                  | 327kB 2.8MB/s eta 0:00:01\r\u001b[K     |██████████████▎                 | 337kB 2.8MB/s eta 0:00:01\r\u001b[K     |██████████████▊                 | 348kB 2.8MB/s eta 0:00:01\r\u001b[K     |███████████████▏                | 358kB 2.8MB/s eta 0:00:01\r\u001b[K     |███████████████▌                | 368kB 2.8MB/s eta 0:00:01\r\u001b[K     |████████████████                | 378kB 2.8MB/s eta 0:00:01\r\u001b[K     |████████████████▍               | 389kB 2.8MB/s eta 0:00:01\r\u001b[K     |████████████████▉               | 399kB 2.8MB/s eta 0:00:01\r\u001b[K     |█████████████████▎              | 409kB 2.8MB/s eta 0:00:01\r\u001b[K     |█████████████████▊              | 419kB 2.8MB/s eta 0:00:01\r\u001b[K     |██████████████████▏             | 430kB 2.8MB/s eta 0:00:01\r\u001b[K     |██████████████████▋             | 440kB 2.8MB/s eta 0:00:01\r\u001b[K     |███████████████████             | 450kB 2.8MB/s eta 0:00:01\r\u001b[K     |███████████████████▍            | 460kB 2.8MB/s eta 0:00:01\r\u001b[K     |███████████████████▉            | 471kB 2.8MB/s eta 0:00:01\r\u001b[K     |████████████████████▎           | 481kB 2.8MB/s eta 0:00:01\r\u001b[K     |████████████████████▊           | 491kB 2.8MB/s eta 0:00:01\r\u001b[K     |█████████████████████▏          | 501kB 2.8MB/s eta 0:00:01\r\u001b[K     |█████████████████████▋          | 512kB 2.8MB/s eta 0:00:01\r\u001b[K     |██████████████████████          | 522kB 2.8MB/s eta 0:00:01\r\u001b[K     |██████████████████████▌         | 532kB 2.8MB/s eta 0:00:01\r\u001b[K     |███████████████████████         | 542kB 2.8MB/s eta 0:00:01\r\u001b[K     |███████████████████████▎        | 552kB 2.8MB/s eta 0:00:01\r\u001b[K     |███████████████████████▊        | 563kB 2.8MB/s eta 0:00:01\r\u001b[K     |████████████████████████▏       | 573kB 2.8MB/s eta 0:00:01\r\u001b[K     |████████████████████████▋       | 583kB 2.8MB/s eta 0:00:01\r\u001b[K     |█████████████████████████       | 593kB 2.8MB/s eta 0:00:01\r\u001b[K     |█████████████████████████▌      | 604kB 2.8MB/s eta 0:00:01\r\u001b[K     |██████████████████████████      | 614kB 2.8MB/s eta 0:00:01\r\u001b[K     |██████████████████████████▍     | 624kB 2.8MB/s eta 0:00:01\r\u001b[K     |██████████████████████████▊     | 634kB 2.8MB/s eta 0:00:01\r\u001b[K     |███████████████████████████▏    | 645kB 2.8MB/s eta 0:00:01\r\u001b[K     |███████████████████████████▋    | 655kB 2.8MB/s eta 0:00:01\r\u001b[K     |████████████████████████████    | 665kB 2.8MB/s eta 0:00:01\r\u001b[K     |████████████████████████████▌   | 675kB 2.8MB/s eta 0:00:01\r\u001b[K     |█████████████████████████████   | 686kB 2.8MB/s eta 0:00:01\r\u001b[K     |█████████████████████████████▍  | 696kB 2.8MB/s eta 0:00:01\r\u001b[K     |█████████████████████████████▉  | 706kB 2.8MB/s eta 0:00:01\r\u001b[K     |██████████████████████████████▎ | 716kB 2.8MB/s eta 0:00:01\r\u001b[K     |██████████████████████████████▋ | 727kB 2.8MB/s eta 0:00:01\r\u001b[K     |███████████████████████████████ | 737kB 2.8MB/s eta 0:00:01\r\u001b[K     |███████████████████████████████▌| 747kB 2.8MB/s eta 0:00:01\r\u001b[K     |████████████████████████████████| 757kB 2.8MB/s eta 0:00:01\r\u001b[K     |████████████████████████████████| 768kB 2.8MB/s \n",
            "\u001b[?25hCollecting intervaltree>=3.0\n",
            "  Downloading https://files.pythonhosted.org/packages/50/fb/396d568039d21344639db96d940d40eb62befe704ef849b27949ded5c3bb/intervaltree-3.1.0.tar.gz\n",
            "Requirement already satisfied: networkx>=2.0 in /usr/local/lib/python3.6/dist-packages (from tag) (2.4)\n",
            "Requirement already satisfied: sortedcontainers<3.0,>=2.0 in /usr/local/lib/python3.6/dist-packages (from intervaltree>=3.0->tag) (2.2.2)\n",
            "Requirement already satisfied: decorator>=4.3.0 in /usr/local/lib/python3.6/dist-packages (from networkx>=2.0->tag) (4.4.2)\n",
            "Building wheels for collected packages: tag, intervaltree\n",
            "  Building wheel for tag (setup.py) ... \u001b[?25l\u001b[?25hdone\n",
            "  Created wheel for tag: filename=tag-0.5-cp36-none-any.whl size=777734 sha256=99eb2797e027fe996271e503c02638d29d90b24d4fd7ea25bec90e4f8cbe759b\n",
            "  Stored in directory: /root/.cache/pip/wheels/88/74/00/b2e721ccc16ceb4dd44c32ef31842d1e0b2e89e4fce7eaf06a\n",
            "  Building wheel for intervaltree (setup.py) ... \u001b[?25l\u001b[?25hdone\n",
            "  Created wheel for intervaltree: filename=intervaltree-3.1.0-py2.py3-none-any.whl size=26102 sha256=d5c3a7f374e100b2e629d39a80d7d6a186854e9c63ae0b389060175e61b57885\n",
            "  Stored in directory: /root/.cache/pip/wheels/f3/f2/66/e9c30d3e9499e65ea2fa0d07c002e64de63bd0adaa49c445bf\n",
            "Successfully built tag intervaltree\n",
            "Installing collected packages: intervaltree, tag\n",
            "  Found existing installation: intervaltree 2.1.0\n",
            "    Uninstalling intervaltree-2.1.0:\n",
            "      Successfully uninstalled intervaltree-2.1.0\n",
            "Successfully installed intervaltree-3.1.0 tag-0.5\n"
          ],
          "name": "stdout"
        }
      ]
    },
    {
      "cell_type": "code",
      "metadata": {
        "id": "A4LkxP1ZsRvw",
        "colab_type": "code",
        "colab": {
          "base_uri": "https://localhost:8080/",
          "height": 217
        },
        "outputId": "d1f344e6-f79e-481e-d7b4-772f6284d57c"
      },
      "source": [
        "\"\"\"#Visualization\"\"\"\n",
        "\n",
        "from wordcloud import WordCloud\n",
        "words = Data['text_lemmatized'].values\n",
        "from wordcloud import WordCloud\n",
        "wordcloud = WordCloud(background_color=\"white\", max_words=5000, contour_width=5, contour_color='steelblue')\n",
        "# Generate a word cloud\n",
        "wordcloud = WordCloud().generate(str(words))\n",
        "#plt.imshow(wordcloud)\n",
        "#plt.axis(\"off\")\n",
        "#plt.show()\n",
        "# Visualize the word cloud\n",
        "wordcloud.to_image()"
      ],
      "execution_count": 30,
      "outputs": [
        {
          "output_type": "execute_result",
          "data": {
            "image/png": "[encoded data removed]",
            "text/plain": [
              "<PIL.Image.Image image mode=RGB size=400x200 at 0x7FD558931128>"
            ]
          },
          "metadata": {
            "tags": []
          },
          "execution_count": 30
        }
      ]
    }
  ]
}